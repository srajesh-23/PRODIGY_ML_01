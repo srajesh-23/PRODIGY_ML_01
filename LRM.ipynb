{
 "cells": [
  {
   "cell_type": "code",
   "execution_count": 1,
   "id": "9e5f04ed",
   "metadata": {},
   "outputs": [
    {
     "name": "stdout",
     "output_type": "stream",
     "text": [
      "Welcome to the House Price Prediction System!\n",
      "\n",
      "Menu:\n",
      "1. Predict house price\n",
      "2. Exit\n",
      "Enter your choice: 1\n",
      "Enter square footage: 2299\n",
      "Enter number of bedrooms: 2\n",
      "Enter number of bathrooms: 2\n"
     ]
    },
    {
     "name": "stderr",
     "output_type": "stream",
     "text": [
      "C:\\Users\\Rajesh\\anaconda3\\lib\\site-packages\\sklearn\\base.py:450: UserWarning: X does not have valid feature names, but LinearRegression was fitted with feature names\n",
      "  warnings.warn(\n"
     ]
    },
    {
     "name": "stdout",
     "output_type": "stream",
     "text": [
      "Predicted price of the house: $337500.70\n",
      "\n",
      "Menu:\n",
      "1. Predict house price\n",
      "2. Exit\n",
      "Enter your choice: 2\n",
      "Exiting...\n"
     ]
    }
   ],
   "source": [
    "import numpy as np\n",
    "import pandas as pd\n",
    "from sklearn.linear_model import LinearRegression\n",
    "\n",
    "def load_data():\n",
    "    # Load your dataset here\n",
    "    # For demonstration, I'll create a dummy dataset\n",
    "    data = {\n",
    "        'Square_Footage': [1500, 2000, 2500, 1800, 2200, 2700, 1600, 1900, 2100, 2300, 2600, 3000, 1700, 2400, 2800],\n",
    "        'Bedrooms': [3, 4, 4, 3, 4, 4, 3, 3, 4, 3, 4, 5, 3, 4, 5],\n",
    "        'Bathrooms': [2, 2.5, 3, 2, 2.5, 3, 2, 2.5, 2.5, 2, 3, 3.5, 2, 2.5, 3],\n",
    "        'Price': [250000, 300000, 350000, 280000, 320000, 380000, 260000, 290000, 310000, 330000, 360000, 400000, 270000, 340000, 370000]\n",
    "    }\n",
    "    df = pd.DataFrame(data)\n",
    "    return df\n",
    "\n",
    "def train_model(df):\n",
    "    X = df[['Square_Footage', 'Bedrooms', 'Bathrooms']]\n",
    "    y = df['Price']\n",
    "    model = LinearRegression()\n",
    "    model.fit(X, y)\n",
    "    return model\n",
    "\n",
    "def predict_price(model, square_footage, bedrooms, bathrooms):\n",
    "    predicted_price = model.predict([[square_footage, bedrooms, bathrooms]])\n",
    "    return predicted_price[0]\n",
    "\n",
    "def main():\n",
    "    print(\"Welcome to the House Price Prediction System!\")\n",
    "    df = load_data()\n",
    "    model = train_model(df)\n",
    "\n",
    "    while True:\n",
    "        print(\"\\nMenu:\")\n",
    "        print(\"1. Predict house price\")\n",
    "        print(\"2. Exit\")\n",
    "        choice = input(\"Enter your choice: \")\n",
    "\n",
    "        if choice == '1':\n",
    "            square_footage = float(input(\"Enter square footage: \"))\n",
    "            bedrooms = int(input(\"Enter number of bedrooms: \"))\n",
    "            bathrooms = float(input(\"Enter number of bathrooms: \"))\n",
    "            predicted_price = predict_price(model, square_footage, bedrooms, bathrooms)\n",
    "            print(f\"Predicted price of the house: ${predicted_price:.2f}\")\n",
    "        elif choice == '2':\n",
    "            print(\"Exiting...\")\n",
    "            break\n",
    "        else:\n",
    "            print(\"Invalid choice. Please enter a valid option.\")\n",
    "\n",
    "if __name__ == \"__main__\":\n",
    "    main()\n"
   ]
  },
  {
   "cell_type": "code",
   "execution_count": null,
   "id": "b0f537b3",
   "metadata": {},
   "outputs": [],
   "source": []
  }
 ],
 "metadata": {
  "kernelspec": {
   "display_name": "Python 3 (ipykernel)",
   "language": "python",
   "name": "python3"
  },
  "language_info": {
   "codemirror_mode": {
    "name": "ipython",
    "version": 3
   },
   "file_extension": ".py",
   "mimetype": "text/x-python",
   "name": "python",
   "nbconvert_exporter": "python",
   "pygments_lexer": "ipython3",
   "version": "3.9.12"
  }
 },
 "nbformat": 4,
 "nbformat_minor": 5
}
